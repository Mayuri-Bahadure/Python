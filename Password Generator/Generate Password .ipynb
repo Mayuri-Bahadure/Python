{
 "cells": [
  {
   "cell_type": "markdown",
   "id": "f4ba6bdf",
   "metadata": {},
   "source": [
    "## Import Necessary Libraries\n"
   ]
  },
  {
   "cell_type": "code",
   "execution_count": 1,
   "id": "1e51d746",
   "metadata": {},
   "outputs": [],
   "source": [
    "import random\n",
    "import string"
   ]
  },
  {
   "cell_type": "code",
   "execution_count": null,
   "id": "850843f9",
   "metadata": {},
   "outputs": [
    {
     "name": "stdout",
     "output_type": "stream",
     "text": [
      "Welcome to our random Password Generator!\n"
     ]
    }
   ],
   "source": [
    "print(\"Welcome to our random Password Generator!\")\n",
    "def pass1():\n",
    "    length=int(input(\"Enter the length of password you want: \"))\n",
    "    lowerD=string.ascii_lowercase\n",
    "    upperD=string.ascii_uppercase\n",
    "    digitD=string.digits\n",
    "    symbolsD=string.punctuation\n",
    "    combine=lowerD+upperD+digitD+symbolsD\n",
    "    x=random.sample(combine,length)\n",
    "    password=''.join(x)\n",
    "    print(password)\n",
    "    pass1()\n",
    "pass1()"
   ]
  },
  {
   "cell_type": "markdown",
   "id": "d463a45c",
   "metadata": {},
   "source": [
    "## Description:\n",
    "print(): This function is used to display the welcome message to the user.\n",
    "\n",
    "input(): This function is used to take user input. The user is prompted to enter the length of the password they want.\n",
    "\n",
    "string.ascii_lowercase: This constant contains all lowercase ASCII letters ('abcdefghijklmnopqrstuvwxyz'). It is used to include lowercase letters in the password.\n",
    "\n",
    "string.ascii_uppercase: Similar to string.ascii_lowercase, this constant contains all uppercase ASCII letters ('ABCDEFGHIJKLMNOPQRSTUVWXYZ'). It is used to include uppercase letters in the password.\n",
    "\n",
    "string.digits: This constant contains all the digits ('0123456789'). It is used to include digits in the password.\n",
    "\n",
    "string.punctuation: This constant contains all punctuation characters ('!\"#$%&'()*+,-./:;<=>?@[\\]^_`{|}~'). It is used to include symbols in the password.\n",
    "\n",
    "random.sample(): This function is used to generate a random sample from a given sequence (in this case, the combine string) of a specified length (length). It returns a list of unique characters.\n",
    "\n",
    "random.choice(): As mentioned earlier, random.choice() is used to select a random element from a sequence, but in this code, random.sample() is used instead to ensure uniqueness.\n",
    "\n",
    "password: This variable stores the generated password. It is constructed by joining the characters in the random sample (x) into a string.\n",
    "\n",
    "Recursion: The function pass1() is called recursively at the end to restart the process of generating a password after displaying the previous one. However, this can lead to an infinite loop if not controlled properly. It's better to use a loop construct like a while loop to repeatedly prompt the user for input."
   ]
  },
  {
   "cell_type": "code",
   "execution_count": null,
   "id": "3e6c2bce",
   "metadata": {},
   "outputs": [],
   "source": []
  }
 ],
 "metadata": {
  "kernelspec": {
   "display_name": "Python 3 (ipykernel)",
   "language": "python",
   "name": "python3"
  },
  "language_info": {
   "codemirror_mode": {
    "name": "ipython",
    "version": 3
   },
   "file_extension": ".py",
   "mimetype": "text/x-python",
   "name": "python",
   "nbconvert_exporter": "python",
   "pygments_lexer": "ipython3",
   "version": "3.11.5"
  }
 },
 "nbformat": 4,
 "nbformat_minor": 5
}
